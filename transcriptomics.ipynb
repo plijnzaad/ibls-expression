{
 "cells": [
  {
   "cell_type": "markdown",
   "metadata": {
    "collapsed": false
   },
   "source": [
    "## Part 1 - Introduction"
   ]
  },
  {
   "cell_type": "markdown",
   "metadata": {
    "collapsed": false
   },
   "source": [
    "In this exercise, we will be analyzing RNA-Seq data from Liu et al. (Genomics Data 7 (2016) 144–147. Transcriptional profiling of the epigenetic regulator Smchd1). They created Smchd1 knock-out mice and studied the changes in expression in neural stem cells. Smchd1 is an epigenetic repressor that plays a role in, amongst others, X-inactivation.\n",
    "\n",
    "The paper can be found on the home page.\n",
    "\n",
    "\n",
    "#### Preparation\n",
    "The following only needs to be done only once (and may in fact already\n",
    "be installed). That's why the code (`source(...)`) is turned into a\n",
    "comment, using `#`"
   ]
  },
  {
   "cell_type": "code",
   "execution_count": 18,
   "metadata": {
    "collapsed": false
   },
   "outputs": [
   ],
   "source": [
    "# Get the biocLite installer script ...\n",
    "# source(\"http://www.bioconductor.org/biocLite.R\")"
   ]
  },
  {
   "cell_type": "code",
   "execution_count": 19,
   "metadata": {
    "collapsed": false
   },
   "outputs": [
   ],
   "source": [
    "# ... and use it to install the DESeq2 package (again, this may already be installed)\n",
    "# biocLite(\"DESeq2\")"
   ]
  },
  {
   "cell_type": "markdown",
   "metadata": {
    "collapsed": false
   },
   "source": [
    "Now load this package into your current workspace. \n",
    "\n",
    "Documentation can be obtained by putting a question mark in front of the thing\n",
    "you need help on:"
   ]
  },
  {
   "cell_type": "code",
   "execution_count": 20,
   "metadata": {
    "collapsed": false
   },
   "outputs": [
   ],
   "source": [
    "?library"
   ]
  },
  {
   "cell_type": "markdown",
   "metadata": {
    "collapsed": false
   },
   "source": [
    "If DESeq2 is (was already) installed, you can now load it into the current workspace:\n"
   ]
  },
  {
   "cell_type": "code",
   "execution_count": 21,
   "metadata": {
    "collapsed": false
   },
   "outputs": [
   ],
   "source": [
    "library(DESeq2)"
   ]
  },
  {
   "cell_type": "markdown",
   "metadata": {
    "collapsed": false
   },
   "source": [
    "DESeq2 is an extensive and well-regarded package to analyze RNA-Seq data, especially differential expression ('DE') between genes between different conditions, typically wild-type and some condition, in this case the knock-down of gene `Smchd1`.\n",
    "\n",
    "\n",
    "The documentation often contains an example section. This is useful in itself, but the example that is given can actually be run using the example() function. For instance, in a moment we will load some data using the `load()` function, you can run its example code as follows.\n"
   ]
  },
  {
   "cell_type": "code",
   "execution_count": 22,
   "metadata": {
    "collapsed": false
   },
   "outputs": [
   ],
   "source": [
    "example(load)"
   ]
  },
  {
   "cell_type": "markdown",
   "metadata": {
    "collapsed": false
   },
   "source": [
    "Let's load the 'Mouse Neural Stem Cell data from Liu et al.' (GSE65747.rda)\n",
    "This data has already been prepared by us. It contains just one big data \n",
    "object representing a complete data set."
   ]
  },
  {
   "cell_type": "code",
   "execution_count": 23,
   "metadata": {
    "collapsed": false
   },
   "outputs": [
   ],
   "source": [
    "load('GSE65747.rda')"
   ]
  },
  {
   "cell_type": "markdown",
   "metadata": {
    "collapsed": false
   },
   "source": [
    "What is the name of the object you just loaded (use the `ls()` function)?\n"
   ]
  },
  {
   "cell_type": "code",
   "execution_count": 64,
   "metadata": {
    "collapsed": false
   },
   "outputs": [
   ],
   "source": [
    "ls()"
   ]
  },
  {
   "cell_type": "markdown",
   "metadata": {
    "collapsed": false
   },
   "source": [
    "What is the type of this object? (use the `class()` or the `is()` function)"
   ]
  },
  {
   "cell_type": "code",
   "execution_count": 25,
   "metadata": {
    "collapsed": false
   },
   "outputs": [
   ],
   "source": [
    "class(dds)\n",
    "is(dds)"
   ]
  },
  {
   "cell_type": "markdown",
   "metadata": {
    "collapsed": false
   },
   "source": [
    "The object is a 'DESeqDataSet', which is essentially a big table with\n",
    "the read counts per gene and per sample, but also contains the\n",
    "'metadata', i.e.  the details of the genes (rows) and samples\n",
    "(columns).  You can get a quick overview of the data by just typing\n",
    "in the name of the object in the R console. How many genes and how\n",
    "how many samples are contained in the object?\n"
   ]
  },
  {
   "cell_type": "code",
   "execution_count": 26,
   "metadata": {
    "collapsed": false
   },
   "outputs": [
   ],
   "source": [
    "dds"
   ]
  },
  {
   "cell_type": "markdown",
   "metadata": {
    "collapsed": false
   },
   "source": [
    "Looking up (meta)data inside the dds object is done using the\n",
    "functions `counts()` for the actual counts, function `colData()` for\n",
    "information per column (such as which experimental group a sample\n",
    "belongs to), and `mcols()` or its synonym `values()` for the metadata on genes.\n",
    "What metadata is there per sample?\n"
   ]
  },
  {
   "cell_type": "code",
   "execution_count": 27,
   "metadata": {
    "collapsed": false
   },
   "outputs": [
   ],
   "source": [
    "colData(dds)"
   ]
  },
  {
   "cell_type": "markdown",
   "metadata": {
    "collapsed": false
   },
   "source": [
    "What metadata is available for each gene?"
   ]
  },
  {
   "cell_type": "code",
   "execution_count": 28,
   "metadata": {
    "collapsed": false
   },
   "outputs": [
   ],
   "source": [
    "mcols(dds)"
   ]
  },
  {
   "cell_type": "markdown",
   "metadata": {
    "collapsed": false
   },
   "source": [
    "Have a look at the actual counts. Use the `head()` function to limit the\n",
    "output, and `summary()` for a summary."
   ]
  },
  {
   "cell_type": "code",
   "execution_count": 29,
   "metadata": {
    "collapsed": false
   },
   "outputs": [
   ],
   "source": [
    "head(counts(dds))                       # head() gives the first rows\n",
    "summary(counts(dds))                    # summary statistics per column"
   ]
  },
  {
   "cell_type": "markdown",
   "metadata": {
    "collapsed": false
   },
   "source": [
    "Which sample had most, and which had fewest mapped reads?"
   ]
  },
  {
   "cell_type": "markdown",
   "metadata": {
    "collapsed": false
   },
   "source": [
    "You can look up the exact counts by specifying the gene (row) and\n",
    "sample (column) in matrix notation, using square brackets and a comma.\n",
    "E.g. look up gene number 1000, in\n",
    "sample 3:\n"
   ]
  },
  {
   "cell_type": "code",
   "execution_count": 30,
   "metadata": {
    "collapsed": false
   },
   "outputs": [
   ],
   "source": [
    "counts(dds[1000,3])"
   ]
  },
  {
   "cell_type": "markdown",
   "metadata": {
    "collapsed": false
   },
   "source": [
    "To specify a numeric range, use the 'colon operator'. E.g., to show\n",
    "the counts for gene number 101 to number 105' for samples 2 and 3, do:"
   ]
  },
  {
   "cell_type": "code",
   "execution_count": 31,
   "metadata": {
    "collapsed": false
   },
   "outputs": [
   ],
   "source": [
    "counts(dds[101:105, 2:3])"
   ]
  },
  {
   "cell_type": "markdown",
   "metadata": {
    "collapsed": false
   },
   "source": [
    "But it's clearer to select rows and colums by rowname and/or column name (if\n",
    "they are present; not all matrices have row and/or column names)"
   ]
  },
  {
   "cell_type": "code",
   "execution_count": 32,
   "metadata": {
    "collapsed": false
   },
   "outputs": [
   ],
   "source": [
    "counts(dds['Smap1', 'A'])"
   ]
  },
  {
   "cell_type": "markdown",
   "metadata": {
    "collapsed": false
   },
   "source": [
    "The thing before the comma is called the _row index_ and it selects the rows.\n",
    "The thing after the comma is the _column index_ and selects the columns.\n",
    "If you leave an index unspecified, it will select _everything_ of that dimension:"
   ]
  },
  {
   "cell_type": "markdown",
   "metadata": {
    "collapsed": false
   },
   "source": [
    "Is gene 'Malat1' abudant or not?"
   ]
  },
  {
   "cell_type": "markdown",
   "metadata": {
    "collapsed": false
   },
   "source": [
    "For data objects of type `DESeqDataSet` you can also use this row and/or column selection mechanism to lookup the corresponding metadata using the `mcols` function.  What, for instance, is the metadata that the object has on the Rp1 gene?\n"
   ]
  },
  {
   "cell_type": "code",
   "execution_count": 33,
   "metadata": {
    "collapsed": false,
    "scrolled": true
   },
   "outputs": [
   ],
   "source": [
    "mcols(dds['Rp1',])"
   ]
  },
  {
   "cell_type": "markdown",
   "metadata": {
    "collapsed": false
   },
   "source": [
    "What information is given per gene? On which chromosome does gene 'Vcp' lie?\n",
    "\n",
    "What are the maximum and mininum counts for each of the samples? \n",
    "Use the `min()`, `max()` and/or `summary()` functions, e.g."
   ]
  },
  {
   "cell_type": "code",
   "execution_count": 34,
   "metadata": {
    "collapsed": false
   },
   "outputs": [
   ],
   "source": [
    "counts(dds['Hdhd2',    ]) ## note the 'comma-nothing'!"
   ]
  },
  {
   "cell_type": "code",
   "execution_count": 35,
   "metadata": {
    "collapsed": false
   },
   "outputs": [
   ],
   "source": [
    "max(counts(dds[, 'B']))"
   ]
  },
  {
   "cell_type": "markdown",
   "metadata": {
    "collapsed": false
   },
   "source": [
    "Likewise, you can obtain the usual statistical functions using\n",
    "`mean(), median(), var(), sd(), sum()` etc. Try this"
   ]
  },
  {
   "cell_type": "markdown",
   "metadata": {
    "collapsed": false
   },
   "source": [
    "You can 'save' values in variables using assignment, which looks like this"
   ]
  },
  {
   "cell_type": "code",
   "execution_count": 36,
   "metadata": {
    "collapsed": false
   },
   "outputs": [
   ],
   "source": [
    "Amean <- mean(counts(dds[,'A']))"
   ]
  },
  {
   "cell_type": "markdown",
   "metadata": {
    "collapsed": false
   },
   "source": [
    "What are the counts for the Smchd1 gene in the wild-type samples,\n",
    "and what are they in the Smchd1-null samples? Why? "
   ]
  },
  {
   "cell_type": "markdown",
   "metadata": {
    "collapsed": false
   },
   "source": [
    "To get an impression of the distribution of read counts of a sample, simply pass it to the `hist()` function."
   ]
  },
  {
   "cell_type": "code",
   "execution_count": 37,
   "metadata": {
    "collapsed": false
   },
   "outputs": [
   ],
   "source": [
    "hist(counts(dds[,'C']))"
   ]
  },
  {
   "cell_type": "markdown",
   "metadata": {
    "collapsed": false
   },
   "source": [
    "To see more details you will have to specify a larger number of\n",
    "histogram bins by specifying an additional `nclass=SOMENUMBER` argument\n",
    "to the `hist()` function. This looks like"
   ]
  },
  {
   "cell_type": "code",
   "execution_count": 38,
   "metadata": {
    "collapsed": false
   },
   "outputs": [
   ],
   "source": [
    "hist(counts(dds[,'C']),  nclass=100)"
   ]
  },
  {
   "cell_type": "markdown",
   "metadata": {
    "collapsed": false
   },
   "source": [
    "To 'zoom in', e.g. to just show the bit between 0 and twice the\n",
    "mean of the the read counts (you just saved that in a variable,\n",
    "right?), you have to specify another optional argument, namely\n",
    "`xlim=c(lower, upper)`. Try this (and adjust the `nclass` argument if\n",
    "needed)."
   ]
  },
  {
   "cell_type": "markdown",
   "metadata": {
    "collapsed": false
   },
   "source": [
    "Now let's compare the distributions of _all_ the data sets. An easy way\n",
    "to do that is the `boxplot()` function.  When given a table such as\n",
    "returned by `counts(dds)` it will do a boxplot for each of the columns\n",
    "in the matrix."
   ]
  },
  {
   "cell_type": "code",
   "execution_count": 39,
   "metadata": {
    "collapsed": false
   },
   "outputs": [
   ],
   "source": [
    "boxplot(counts(dds))"
   ]
  },
  {
   "cell_type": "markdown",
   "metadata": {
    "collapsed": false
   },
   "source": [
    "Supply an optional ylim-argument (such as `... ylim=c(0, 1000) ...` )\n",
    "to make the differences between\n",
    "the samples clearer. Which of the\n",
    "samples is the 'odd one out', based on this? Is it a knock-out or wt\n",
    "genotype?"
   ]
  },
  {
   "cell_type": "markdown",
   "metadata": {
    "collapsed": false
   },
   "source": [
    "#### End of part 1 ####"
   ]
  },
  {
   "cell_type": "markdown",
   "metadata": {
    "collapsed": false
   },
   "source": [
    "## Part 2 - Statistics"
   ]
  },
  {
   "cell_type": "markdown",
   "metadata": {
    "collapsed": false
   },
   "source": [
    "The theory behind the differential expression analysis is\n",
    "fairly complex. For one thing, the counts samples have to be \n",
    "normalized: i.e., made more comparable by e.g. \n",
    "correcting for read depth. This normalization as well as the statistical\n",
    "evaluation is done in one call to DESeq:"
   ]
  },
  {
   "cell_type": "code",
   "execution_count": 40,
   "metadata": {
    "collapsed": false
   },
   "outputs": [
   ],
   "source": [
    "dds <- DESeq(dds)                       #note: this adds things to the 'dds' object"
   ]
  },
  {
   "cell_type": "markdown",
   "metadata": {
    "collapsed": false
   },
   "source": [
    "Amongst others, the data has now been normalized. This is visible using \n",
    "the `colData()`\n",
    "What is the normalization factor for the 'odd-one out' sample\n",
    "from the previous exercise?"
   ]
  },
  {
   "cell_type": "code",
   "execution_count": 41,
   "metadata": {
    "collapsed": false
   },
   "outputs": [
   ],
   "source": [
    "colData(dds)"
   ]
  },
  {
   "cell_type": "markdown",
   "metadata": {
    "collapsed": false
   },
   "source": [
    "To get the read counts after normalization, specify\n",
    "`normalized=TRUE` as an extra argument to `counts()`. Compare the\n",
    "boxplots of the unnormalized data (done in the last exercise of the\n",
    "previous session) with those of normalized data. Did the\n",
    "normalization work?"
   ]
  },
  {
   "cell_type": "code",
   "execution_count": 42,
   "metadata": {
    "collapsed": false
   },
   "outputs": [
   ],
   "source": [
    "boxplot(counts(dds, normalized=TRUE), ylim=c(0,2000))"
   ]
  },
  {
   "cell_type": "markdown",
   "metadata": {
    "collapsed": false
   },
   "source": [
    "To get the statistical results out of the normalized data,\n",
    "use the `results()` function. It needs the `DESeqDataSet` and\n",
    "a so-called _contrast_. A contrast specifies what experimental factor to\n",
    "compare (here: 'group'), which samples are 'treatment', and\n",
    "which samples are 'control'. It returns a table-like data\n",
    "structure. Let's assign it to a new variable called `res` :"
   ]
  },
  {
   "cell_type": "code",
   "execution_count": 43,
   "metadata": {
    "collapsed": false
   },
   "outputs": [
   ],
   "source": [
    "res <- results(dds, contrast=c(\"group\", \"Smchd1-null\", \"WT\"))\n",
    "res"
   ]
  },
  {
   "cell_type": "markdown",
   "metadata": {
    "collapsed": false
   },
   "source": [
    "The `summary()` function again gives a useful overview of the results\n",
    "How many outliers are there, and how many 'low counts'?"
   ]
  },
  {
   "cell_type": "code",
   "execution_count": 44,
   "metadata": {
    "collapsed": false
   },
   "outputs": [
   ],
   "source": [
    "summary(res)"
   ]
  },
  {
   "cell_type": "markdown",
   "metadata": {
    "collapsed": false
   },
   "source": [
    "To get an impression of the data as a whole, the change per\n",
    "gene versus its average is plotted. Use the `plotMA()` function for this,\n",
    "and give it the `res` object as an argument."
   ]
  },
  {
   "cell_type": "code",
   "execution_count": 45,
   "metadata": {
    "collapsed": false
   },
   "outputs": [
   ],
   "source": [
    "plotMA(res)"
   ]
  },
  {
   "cell_type": "markdown",
   "metadata": {
    "collapsed": false
   },
   "source": [
    "By default, `plotMA()` tries to show most of the data, and chooses\n",
    "its own y-axis limits. Genes outside the range are shown as\n",
    "triangles. Play with the `ylim` argument to show all the data. Better\n",
    "yet, use `min()` and `max()` on the 'log2FoldChange' column of your\n",
    "`results` data to find the limits automatically. To make the `min()` and\n",
    "`max()` functions ignore the NA's (i.e. the missing data), you have to also \n",
    "pass an `na.rm=TRUE` argument."
   ]
  },
  {
   "cell_type": "code",
   "execution_count": 46,
   "metadata": {
    "collapsed": false
   },
   "outputs": [
   ],
   "source": [
    "lowest <- min(res[,'log2FoldChange'], na.rm=TRUE)\n",
    "highest <- max(res[,'log2FoldChange'], na.rm=TRUE)\n",
    "plotMA(res, ylim=c(lowest,highest))"
   ]
  },
  {
   "cell_type": "markdown",
   "metadata": {
    "collapsed": false
   },
   "source": [
    "Have a look at e.g. the first 10 rows of the `results` table.  What\n",
    "do the columns mean? Why is `padj` greater than `pvalue`?  What are the\n",
    "statistics for the Smchd1 gene? (Remember how you selected data on a\n",
    "particular gene in one of the previous exercises)."
   ]
  },
  {
   "cell_type": "code",
   "execution_count": 47,
   "metadata": {
    "collapsed": false
   },
   "outputs": [
   ],
   "source": [
    "res[1:10, ]\n",
    "res['Smchd1', ]"
   ]
  },
  {
   "cell_type": "markdown",
   "metadata": {
    "collapsed": false
   },
   "source": [
    "The genes Ndn, Mkrn3 and Peg12 are known to be repressed by\n",
    "Smchd1. Do the statistics confirm this?"
   ]
  },
  {
   "cell_type": "code",
   "execution_count": 48,
   "metadata": {
    "collapsed": false
   },
   "outputs": [
   ],
   "source": [
    "res['Ndn',]\n",
    "res['Mkrn3',]\n",
    "res['Peg12',]"
   ]
  },
  {
   "cell_type": "markdown",
   "metadata": {
    "collapsed": false
   },
   "source": [
    "To find the top 10 genes that, in the Smchd1 knock-out, go down or go\n",
    "up most, we have first have to sort the results table. In R, this is\n",
    "done as follows:"
   ]
  },
  {
   "cell_type": "code",
   "execution_count": 49,
   "metadata": {
    "collapsed": false
   },
   "outputs": [
   ],
   "source": [
    "order.incr <- order(res[, 'log2FoldChange'])\n",
    "res.incr <- res[order.incr, ]\n",
    "\n",
    "order.decr <- order(res[, 'log2FoldChange'], decreasing=TRUE)\n",
    "res.decr <- res[order.decr, ]"
   ]
  },
  {
   "cell_type": "markdown",
   "metadata": {
    "collapsed": false
   },
   "source": [
    "The `order()` function simply calculates a vector of numbers that puts the rows of\n",
    "the table in the the right order. By default, the ordering is from\n",
    "low to high; to get a descending order, specify `decreasing=TRUE` as\n",
    "an extra argument to `order()` \n",
    "\n",
    "Now find the 10 genes that go up most, and those that go down most"
   ]
  },
  {
   "cell_type": "markdown",
   "metadata": {
    "collapsed": false
   },
   "source": [
    "#### End of Part 2 ####"
   ]
  },
  {
   "cell_type": "markdown",
   "metadata": {
    "collapsed": false
   },
   "source": [
    "## Part 3 - Gene Selections"
   ]
  },
  {
   "cell_type": "markdown",
   "metadata": {
    "collapsed": false
   },
   "source": [
    "In order to do further analyses such as gene set enrichment, we need\n",
    "to make selections of our genes, based on the fold-change and\n",
    "adjusted p-value (adjusted for _what_ ?). You can use the `order()` function, but sometimes you\n",
    "want to specify an explicit threshold instead of 'the top so-many'. For\n",
    "this we need comparison operators. E.g. to find all the genes without\n",
    "any counts, we could say:"
   ]
  },
  {
   "cell_type": "code",
   "execution_count": 50,
   "metadata": {
    "collapsed": false
   },
   "outputs": [
   ],
   "source": [
    "not.expressed <- (res[,'baseMean'] == 0)   # NOTE: the double equals-sign == means 'is equal to',  single '=' is used for function arguments!"
   ]
  },
  {
   "cell_type": "markdown",
   "metadata": {
    "collapsed": false
   },
   "source": [
    "`not.expressed` is now a vector of so-called logicals (als known as booleans),\n",
    "with `TRUE` where the `baseMean`- column had a 0, and `FALSE` where not."
   ]
  },
  {
   "cell_type": "markdown",
   "metadata": {
    "collapsed": false
   },
   "source": [
    "You can use this logical vector to select rows from the original table:"
   ]
  },
  {
   "cell_type": "code",
   "execution_count": 51,
   "metadata": {
    "collapsed": false
   },
   "outputs": [
   ],
   "source": [
    "res[not.expressed, ]"
   ]
  },
  {
   "cell_type": "markdown",
   "metadata": {
    "collapsed": false
   },
   "source": [
    "Note the 'comma-nothing' again (we are selecting specific rows using the `not.expressed` vector, but for these rows, we select *all* their columns)\n"
   ]
  },
  {
   "cell_type": "markdown",
   "metadata": {
    "collapsed": false
   },
   "source": [
    "This vector of TRUE and FALSE is all very nice, but we want to find out how many were not expressed, not which ones. This is a very common task, and luckily there is a function to help us: sum() gives you the number of TRUEs in a boolean vector. (The reason is that all the FALSEs and TRUEs are first automatically converted to 0's and 1's respectively)"
   ]
  },
  {
   "cell_type": "code",
   "execution_count": 52,
   "metadata": {
    "collapsed": false
   },
   "outputs": [
   ],
   "source": [
    "sum(not.expressed)"
   ]
  },
  {
   "cell_type": "markdown",
   "metadata": {
    "collapsed": false
   },
   "source": [
    "The genes without any counts lead to NA's, that is, missing values in the results table (`NA` stands for 'not available'). We have to get rid of them because these values are 'contageous': many functions will return NA if they are given arguments containing any NA. Functions such as `mean()`, `min()` and `max()` all have a special optional argument `na.rm` to remove the NA's before doing the actual calculation.  However, those functions only work on vectors, not on matrices and tables so we need something more general: a function that returns `TRUE` for NA, and `FALSE` otherwise. That function is called `is.na()`:"
   ]
  },
  {
   "cell_type": "code",
   "execution_count": 53,
   "metadata": {
    "collapsed": false
   },
   "outputs": [
   ],
   "source": [
    "na <- is.na(res[   , 'padj']) # note the 'nothing - comma' here"
   ]
  },
  {
   "cell_type": "markdown",
   "metadata": {
    "collapsed": false
   },
   "source": [
    "How many of these `NA` values are there?\n",
    "\n",
    "\n",
    "We now want use our 'na' vector to select things from the results table, but we need in fact the exact\n",
    "opposite: all the rows that are *not* `NA`.  To negate logical values\n",
    "there is the `!`  operator (also called the NOT operator)"
   ]
  },
  {
   "cell_type": "code",
   "execution_count": 54,
   "metadata": {
    "collapsed": false
   },
   "outputs": [
   ],
   "source": [
    "available <- !na"
   ]
  },
  {
   "cell_type": "markdown",
   "metadata": {
    "collapsed": false
   },
   "source": [
    "How many results do have an adjusted p-value available?"
   ]
  },
  {
   "cell_type": "markdown",
   "metadata": {
    "collapsed": false
   },
   "source": [
    "We can now create a set with only the clear results:"
   ]
  },
  {
   "cell_type": "code",
   "execution_count": 55,
   "metadata": {
    "collapsed": false
   },
   "outputs": [
   ],
   "source": [
    "res2 <- res[available, ]"
   ]
  },
  {
   "cell_type": "markdown",
   "metadata": {
    "collapsed": false
   },
   "source": [
    "Which genes have a `padj` value better than 1e-20?"
   ]
  },
  {
   "cell_type": "code",
   "execution_count": 56,
   "metadata": {
    "collapsed": false
   },
   "outputs": [
   ],
   "source": [
    "sum( res2[   , 'padj']  < 1e-20 ) # again, note the 'nothing - comma' here"
   ]
  },
  {
   "cell_type": "markdown",
   "metadata": {
    "collapsed": false
   },
   "source": [
    "Lastly, we should be able to combine several comparison operators,\n",
    "e.g. select genes that *both* have changed at least 2-fold up, AND also have a\n",
    "p-value better than 0.01. For this there is the AND operator: `&` .  It\n",
    "works as can be expected: `a & b` is only `TRUE` if both `a` AND `b` have\n",
    "`TRUE` (note: this is done along the whole length of the vector of `TRUE`s and `FALSE`s)\n",
    "\n",
    "How many genes go up, and have an adjusted p-value better than\n",
    "0.01, and how many satisfy both criteria?"
   ]
  },
  {
   "cell_type": "code",
   "execution_count": 57,
   "metadata": {
    "collapsed": false
   },
   "outputs": [
   ],
   "source": [
    "sign_up <-  res2[ , 'padj'] < 0.01 & res2[ , 'log2FoldChange'] > 1\n",
    "sum(sign_up)"
   ]
  },
  {
   "cell_type": "markdown",
   "metadata": {
    "collapsed": false
   },
   "source": [
    "Same question for the genes going down significantly at least a factor 2: "
   ]
  },
  {
   "cell_type": "code",
   "execution_count": 58,
   "metadata": {
    "collapsed": false
   },
   "outputs": [
   ],
   "source": [
    "sign_down <-  res2[ , 'padj'] < 0.01 & res2[ , 'log2FoldChange'] < -1 # space between '<' and '-' (otherwise it's an assignment!)\n",
    "sum(sign_down)"
   ]
  },
  {
   "cell_type": "markdown",
   "metadata": {
    "collapsed": false
   },
   "source": [
    "We can now try to see what is so special about this set of genes. \n",
    "You just created a vector of booleans that you can use to\n",
    "select them from the original table. What you need are their\n",
    "names, which you can extract using the `rownames()` function:"
   ]
  },
  {
   "cell_type": "code",
   "execution_count": 59,
   "metadata": {
    "collapsed": false
   },
   "outputs": [
   ],
   "source": [
    "signup_genes <- rownames(res2[sign_up,  ])"
   ]
  },
  {
   "cell_type": "markdown",
   "metadata": {
    "collapsed": false
   },
   "source": [
    "To get these gene names nicely formatted for easy copy-pasting,\n",
    "use the `cat()` function with `\"\\n\"` (meaning: new line) as the separator:"
   ]
  },
  {
   "cell_type": "code",
   "execution_count": 60,
   "metadata": {
    "collapsed": false
   },
   "outputs": [
   ],
   "source": [
    "cat(signup_genes, sep=\"\\n\")"
   ]
  },
  {
   "cell_type": "markdown",
   "metadata": {
    "collapsed": false
   },
   "source": [
    "Use http://www.geneontology.org/page/go-enrichment-analysis ) to\n",
    "analyse your list of gene names (be sure to select Mouse as\n",
    "species). Which processes, functions and/or components are\n",
    "overrepresented in your up list? Which group of genes is\n",
    "responsible for the most significant terms in the up-list?\n",
    "\n",
    "Note: if the geneontology site is down, use\n",
    "http://integromics.holstegelab.nl/index.php?framesrc=Core/go.cgi&action=search\n",
    "(the password will be on the whiteboard)"
   ]
  },
  {
   "cell_type": "markdown",
   "metadata": {
    "collapsed": false
   },
   "source": [
    "#### End of part 3 ####"
   ]
  },
  {
   "cell_type": "markdown",
   "metadata": {
    "collapsed": false
   },
   "source": [
    "## Glimma demo"
   ]
  },
  {
   "cell_type": "markdown",
   "metadata": {
    "collapsed": false
   },
   "source": [
    "This exercise is an extra, to give you a taste of the capabilities of R. \n",
    "R can produce rich interactive documents. An important example of this is\n",
    "the `Shiny` library. Here we are using `Glimma` library, which is a bit\n",
    "easier, and especially suited to display expression data. The Glimma package\n",
    "may already be installed; if not we'll have to do it ourselves, but first try:"
   ]
  },
  {
   "cell_type": "code",
   "execution_count": 76,
   "metadata": {
    "collapsed": false
   },
   "outputs": [
   ],
   "source": [
    "library(Glimma)"
   ]
  },
  {
   "cell_type": "markdown",
   "metadata": {
    "collapsed": false
   },
   "source": [
    "If that did't work we'll install it ourselves, but we are not allowed to install things to the default location, so we'll first set up our own location and install it there. It may also decide to install the `edgeR` package, and it may complain (which you can ignore) about not being able to update the `MASS` package."
   ]
  },
  {
   "cell_type": "code",
   "execution_count": 86,
   "metadata": {
    "collapsed": false
   },
   "outputs": [
   ],
   "source": [
    "# lib.dir <- paste(sep=\"/\", Sys.getenv(\"HOME\"), 'Rlibs')\n",
    "# dir.create(lib.dir)\n",
    "# source(\"http://www.bioconductor.org/biocLite.R\")\n",
    "# biocLite(\"Glimma\", lib=lib.dir)\n",
    "### alternatively: \n",
    "# library(devtools)\n",
    "# devtools::install_github(\"Shians/Glimma\")"
   ]
  },
  {
   "cell_type": "markdown",
   "metadata": {
    "collapsed": false
   },
   "source": [
    "Try to load it again, this time also specify where to load the library from:"
   ]
  },
  {
   "cell_type": "code",
   "execution_count": 81,
   "metadata": {
    "collapsed": false
   },
   "outputs": [
   ],
   "source": [
    "library(Glimma, lib.loc=lib.dir)"
   ]
  },
  {
   "cell_type": "markdown",
   "metadata": {
    "collapsed": false
   },
   "source": [
    "To highlight the genes that have a p-value better than, say, 0.01, \n",
    "we can supply a vector of zeroes (black) and ones (red), based \n",
    "on the adjusted p-value. The old version of Glimma cannot deal with `NA`'s,\n",
    "so we have to manually hide them by giving them a proper (but non-significant!)\n",
    "p-value, say, 1"
   ]
  },
  {
   "cell_type": "code",
   "execution_count": 82,
   "metadata": {
    "collapsed": false
   },
   "outputs": [
   ],
   "source": [
    "padj <- res[, 'padj']\n",
    "padj[ is.na(padj) ] <- 1"
   ]
  },
  {
   "cell_type": "markdown",
   "metadata": {
    "collapsed": false
   },
   "source": [
    "Genes that will be displayed as red dots must have a `status` of one, so they must have a `padj` smaller than\n",
    "0.01. This gives a boolean vector, but unfortunately, Glimma only\n",
    "accepts zeroes and ones. We can convert `FALSE` and `TRUE` to 0 and 1 using\n",
    "the `as.numeric()` function"
   ]
  },
  {
   "cell_type": "code",
   "execution_count": 83,
   "metadata": {
    "collapsed": false
   },
   "outputs": [
   ],
   "source": [
    "status <- as.numeric(padj < 0.01)"
   ]
  },
  {
   "cell_type": "markdown",
   "metadata": {
    "collapsed": false
   },
   "source": [
    "A few more things are needed:"
   ]
  },
  {
   "cell_type": "code",
   "execution_count": 84,
   "metadata": {
    "collapsed": false
   },
   "outputs": [
   ],
   "source": [
    "groups <- colData(dds)[ ,'group'] # which experimental factors to take along\n",
    "colors <- c('blue', 'LightBlue', 'red', 'pink', 'DarkRed', 'DarkBlue') # what color to give them\n",
    "display <- c(\"GeneID\", \"GeneName\", \"logFC\") # which annotation (from mcols(dds) ) and numeric data to show"
   ]
  },
  {
   "cell_type": "markdown",
   "metadata": {
    "collapsed": false
   },
   "source": [
    "Now we are ready to produce the interactive HTML document. Running this function can take up to a minute (wait until the green dot disappears). "
   ]
  },
  {
   "cell_type": "code",
   "execution_count": 85,
   "metadata": {
    "collapsed": false
   },
   "outputs": [
   ],
   "source": [
    "glMDPlot(res,\n",
    "         status=status,\n",
    "         counts=counts(dds),\n",
    "         samples=colnames(dds),\n",
    "         sample.cols=colors,\n",
    "         anno=mcols(dds),\n",
    "         groups=groups,\n",
    "         display.columns=display)"
   ]
  },
  {
   "cell_type": "markdown",
   "metadata": {
    "collapsed": false
   },
   "source": [
    "After this, you to the `Files` menu (top-left corner).\n",
    "There, select the `glimma-dir` folder (by ticking it, not clicking) it.\n",
    "Then, click the `Compress` button (you can specify your own name if you like).\n",
    "This prepares a ZIP file that you should download (tick the box and click `Download`)\n",
    "If you open this file on your own computer, you should navigate tot he `MD-Plot.html` \n",
    "Open it by double-clicking and enjoy the interactivity. Which genes have the highest expression, in general?\n",
    "\n",
    "\n",
    "It may be nicer to display the expression levels in the right-handside plot on a log scale. To this end, redo the whole thing while supplying a `side.log` argument. This also requires that there are no zeroes in the data; you can solve this by supplying a `counts = counts(dds)+1 ` argument."
   ]
  }
 ],
 "metadata": {
  "kernelspec": {
   "display_name": "R",
   "language": "r",
   "name": "ir"
  },
  "language_info": {
   "codemirror_mode": "r",
   "file_extension": ".r",
   "mimetype": "text/x-r-source",
   "name": "R",
   "pygments_lexer": "r",
   "version": "3.4.0"
  }
 },
 "nbformat": 4,
 "nbformat_minor": 0
}