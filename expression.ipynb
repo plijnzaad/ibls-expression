{
 "cells": [
  {
   "cell_type": "code",
   "execution_count": 29,
   "metadata": {
    "collapsed": false
   },
   "outputs": [
   ],
   "source": [
    "## The following only needs to be done only once (and may in fact already\n",
    "## be installed). That's why the code ('source(...)') is turned into a\n",
    "## comment, using '#' (like the very text you are reading now!)\n",
    "## Get the biocLite installer script ...\n",
    "## source(\"http://www.bioconductor.org/biocLite.R\")"
   ]
  },
  {
   "cell_type": "code",
   "execution_count": 51,
   "metadata": {
    "collapsed": false
   },
   "outputs": [
   ],
   "source": [
    "## ... and use it to install the DESeq2 package (again, this already be installed)\n",
    "## biocLite(\"DESeq2\")"
   ]
  },
  {
   "cell_type": "code",
   "execution_count": 53,
   "metadata": {
    "collapsed": false
   },
   "outputs": [
   ],
   "source": [
    "## We will now load this package into your current workspace\n",
    "## But first it's useful to know how to get help. \n",
    "## That is done using a question mark in front of the thing\n",
    "## you need help on:\n",
    "\n",
    "?library"
   ]
  },
  {
   "cell_type": "code",
   "execution_count": 56,
   "metadata": {
    "collapsed": false
   },
   "outputs": [
   ],
   "source": [
    "## This documentation often contains an example section. This is useful\n",
    "## in itself, but the example can also be run using the example() function\n",
    "\n",
    "example(load)"
   ]
  },
  {
   "cell_type": "code",
   "execution_count": 30,
   "metadata": {
    "collapsed": false
   },
   "outputs": [
   ],
   "source": [
    "## If DESeq2 is installed, you can now load it into the current workspace:\n",
    "\n",
    "library(DESeq2)"
   ]
  },
  {
   "cell_type": "code",
   "execution_count": 42,
   "metadata": {
    "collapsed": false
   },
   "outputs": [
   ],
   "source": [
    "## Let's load the 'Mouse Neural Stem Cell data from Liu et al.' (GSE65747.rda)\n",
    "## This data has already been prepared by us. It contains just one big data \n",
    "## object called 'dds'. Load it as follows:\n",
    "\n",
    "load('GSE65747.rda')"
   ]
  },
  {
   "cell_type": "code",
   "execution_count": 33,
   "metadata": {
    "collapsed": false
   },
   "outputs": [
   ],
   "source": [
    "## What is the name of the object you just loaded (use the ls() function)?\n",
    "\n",
    "ls()"
   ]
  },
  {
   "cell_type": "code",
   "execution_count": 57,
   "metadata": {
    "collapsed": false
   },
   "outputs": [
   ],
   "source": [
    "## What is the type of this object? (use the class() or the is() function)\n",
    "\n",
    "class(dds)\n",
    "is(dds)"
   ]
  },
  {
   "cell_type": "code",
   "execution_count": 36,
   "metadata": {
    "collapsed": false
   },
   "outputs": [
   ],
   "source": [
    "## The object is a 'DESeqDataSet', which is essentially a big table with\n",
    "## the read counts per gene and per sample, but also contains the\n",
    "## 'metadata', i.e.  the details of the genes (rows) and samples\n",
    "## (columns).  You can get a quick overview of the data by just typing\n",
    "## in the name of the object in the R console. How many genes and how\n",
    "## how many samples are contained in the object?\n",
    "\n",
    "dds"
   ]
  },
  {
   "cell_type": "code",
   "execution_count": 45,
   "metadata": {
    "collapsed": false
   },
   "outputs": [
   ],
   "source": [
    "## Looking up (meta)data inside the dds object is done using the\n",
    "## functions counts() for the actual counts, function colData() for\n",
    "## information per column (such as which experimental group a sample\n",
    "## belongs to), and mcols() or its synonym values() for the metadata on genes.\n",
    "## What metadata is there per sample?\n",
    "\n",
    "colData(dds)"
   ]
  },
  {
   "cell_type": "code",
   "execution_count": 46,
   "metadata": {
    "collapsed": false
   },
   "outputs": [
   ],
   "source": [
    "## What metadata is available for each gene?\n",
    "\n",
    "mcols(dds)"
   ]
  },
  {
   "cell_type": "code",
   "execution_count": 43,
   "metadata": {
    "collapsed": false
   },
   "outputs": [
   ],
   "source": [
    "## Have a look at the actual counts. Use the head() function to limit the\n",
    "## output, and summary() for a summary.\n",
    "\n",
    "head(counts(dds))                       # head() gives the first rows\n",
    "summary(counts(dds))                    # summary statistics per column"
   ]
  },
  {
   "cell_type": "code",
   "execution_count": 39,
   "metadata": {
    "collapsed": false
   },
   "outputs": [
   ],
   "source": [
    "## 2. Which sample had most, and which had fewest mapped reads?"
   ]
  },
  {
   "cell_type": "code",
   "execution_count": 61,
   "metadata": {
    "collapsed": false
   },
   "outputs": [
   ],
   "source": [
    "## You can look up the exact counts by specifying the gene (row) and\n",
    "## sample (column) in matrix notation, using square brackets and a comma.\n",
    "## E.g. look up gene number 1000, in\n",
    "## sample 3:\n",
    "\n",
    "counts(dds[1000,3])"
   ]
  },
  {
   "cell_type": "code",
   "execution_count": 52,
   "metadata": {
    "collapsed": false
   },
   "outputs": [
   ],
   "source": [
    "## To specify a numeric range, use the 'colon operator'. E.g., to show\n",
    "## the counts for gene number 101 to number 105' for samples 2 and 3, do:\n",
    "\n",
    "counts(dds[101:105, 2:3])"
   ]
  },
  {
   "cell_type": "code",
   "execution_count": 59,
   "metadata": {
    "collapsed": false
   },
   "outputs": [
   ],
   "source": [
    "## But it's clearer to select rows and colums by rowname and/or column name (if\n",
    "## they are present; not all matrices have row and/or column names)\n",
    "\n",
    "counts(dds['Smap1', 'A'])"
   ]
  },
  {
   "cell_type": "code",
   "execution_count": 62,
   "metadata": {
    "collapsed": false
   },
   "outputs": [
   ],
   "source": [
    "## The thing before the comma is the row index and it selects the rows\n",
    "## The thing after the comma is the column index and selects the columns\n",
    "## If you leave an index unspecified, it will select everything of that dimenstion\n",
    "\n",
    "counts(dds['Hdhd2',    ]) ## note the 'comma-nothing'!"
   ]
  },
  {
   "cell_type": "code",
   "execution_count": 0,
   "metadata": {
    "collapsed": false
   },
   "outputs": [
   ],
   "source": [
    "## Is gene 'Malat1' anbudant or not?"
   ]
  },
  {
   "cell_type": "code",
   "execution_count": 63,
   "metadata": {
    "collapsed": false,
    "scrolled": true
   },
   "outputs": [
   ],
   "source": [
    "## You can also use this to lookup the metadata, e.g.:\n",
    "\n",
    "mcols(dds['Rp1',])"
   ]
  },
  {
   "cell_type": "code",
   "execution_count": 64,
   "metadata": {
    "collapsed": false
   },
   "outputs": [
   ],
   "source": [
    "## What information is given per gene? On which chromosome does gene 'Vcp' lie?"
   ]
  },
  {
   "cell_type": "code",
   "execution_count": 67,
   "metadata": {
    "collapsed": false
   },
   "outputs": [
   ],
   "source": [
    "## What are the maximum and mininum counts for each of the samples? \n",
    "## Use the min(), max() and/or summary() functions, e.g.\n",
    "\n",
    "min(counts(dds[, 'B']))"
   ]
  },
  {
   "cell_type": "code",
   "execution_count": 0,
   "metadata": {
    "collapsed": false
   },
   "outputs": [
   ],
   "source": [
    "## Likewise, you can obtain the usual statistical functions using\n",
    "## mean(), median(), var(), sd(), sum() etc. Try this"
   ]
  },
  {
   "cell_type": "code",
   "execution_count": 81,
   "metadata": {
    "collapsed": false
   },
   "outputs": [
   ],
   "source": [
    "## You can 'save' values in variables using assignment, which looks like this\n",
    "\n",
    "Amean <- mean(counts(dds[,'A']))"
   ]
  },
  {
   "cell_type": "code",
   "execution_count": 72,
   "metadata": {
    "collapsed": false
   },
   "outputs": [
   ],
   "source": [
    "## What are the counts for the Smchd1 gene in the wild-type samples,\n",
    "## and what are they in the Smchd1-null samples? Why? "
   ]
  },
  {
   "cell_type": "code",
   "execution_count": 79,
   "metadata": {
    "collapsed": false
   },
   "outputs": [
   ],
   "source": [
    "## To get an impression of the distribution of read counts of a sample,\n",
    "## simply pass it to the hist() function.\n",
    "\n",
    "hist(counts(dds[,'C']))"
   ]
  },
  {
   "cell_type": "code",
   "execution_count": 82,
   "metadata": {
    "collapsed": false
   },
   "outputs": [
   ],
   "source": [
    "## To see more details you will have to specify a larger number of\n",
    "## histogram bins by specifying an additional nclass=SOMENUMBER argument\n",
    "## to the hist() function. This looks like\n",
    "hist(counts(dds[,'C']),  nclass=100)"
   ]
  },
  {
   "cell_type": "code",
   "execution_count": 0,
   "metadata": {
    "collapsed": false
   },
   "outputs": [
   ],
   "source": [
    "## To 'zoom in', e.g. to just show the bit between 0 and twice the\n",
    "## mean of the the read counts (you just saved that in a variable,\n",
    "## right?), you have to specify another optional argument, namely\n",
    "## xlim=c(lower, upper). Try this (and adjust the nclass argument if\n",
    "## needed)."
   ]
  },
  {
   "cell_type": "code",
   "execution_count": 0,
   "metadata": {
    "collapsed": false
   },
   "outputs": [
   ],
   "source": [
    "## Now let's compare the distributions of _all_ the data sets. An easy way\n",
    "## to do that is the boxplot() function.  When given a table such as\n",
    "## returned by counts(dds) it will do a boxplot for each of the columns\n",
    "## in the matrix.\n",
    "\n",
    "boxplot(counts(dds))"
   ]
  },
  {
   "cell_type": "code",
   "execution_count": 0,
   "metadata": {
    "collapsed": false
   },
   "outputs": [
   ],
   "source": [
    "## Supply an optional ylim-argument to make differences between\n",
    "## the samples clearer. Which of the\n",
    "## samples is the 'odd one out', based on this? Is it a knock-out or wt\n",
    "## genotype?"
   ]
  }
 ],
 "metadata": {
  "kernelspec": {
   "display_name": "R",
   "language": "R",
   "name": "ir"
  },
  "language_info": {
   "codemirror_mode": "r",
   "file_extension": ".r",
   "mimetype": "text/x-r-source",
   "name": "R",
   "pygments_lexer": "r",
   "version": "3.3.2"
  }
 },
 "nbformat": 4,
 "nbformat_minor": 0
}